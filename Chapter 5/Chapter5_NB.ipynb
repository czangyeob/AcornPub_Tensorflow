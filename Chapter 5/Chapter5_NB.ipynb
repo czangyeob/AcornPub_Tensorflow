{
 "cells": [
  {
   "cell_type": "markdown",
   "metadata": {},
   "source": [
    "<h3>합성곱 신경망</h3>"
   ]
  },
  {
   "cell_type": "code",
   "execution_count": 1,
   "metadata": {
    "collapsed": false
   },
   "outputs": [
    {
     "name": "stdout",
     "output_type": "stream",
     "text": [
      "Extracting /tmp/data/train-images-idx3-ubyte.gz\n",
      "Extracting /tmp/data/train-labels-idx1-ubyte.gz\n",
      "Extracting /tmp/data/t10k-images-idx3-ubyte.gz\n",
      "Extracting /tmp/data/t10k-labels-idx1-ubyte.gz\n"
     ]
    }
   ],
   "source": [
    "# MINST 데이터 로드\n",
    "import input_data\n",
    "mnist = input_data.read_data_sets(\"/tmp/data/\",one_hot=True)\n",
    "import tensorflow as tf"
   ]
  },
  {
   "cell_type": "code",
   "execution_count": 2,
   "metadata": {
    "collapsed": true
   },
   "outputs": [],
   "source": [
    "# 매개변수 설정\n",
    "learning_rate = 0.001\n",
    "training_iters = 100000\n",
    "batch_size = 128\n",
    "display_step = 10"
   ]
  },
  {
   "cell_type": "code",
   "execution_count": 3,
   "metadata": {
    "collapsed": true
   },
   "outputs": [],
   "source": [
    "# 신경망 관련 매개변수 설정\n",
    "n_input = 784 # MNIST 입력 데이터 크기(이미지 모양: 28*28)\n",
    "n_classes = 10 # MNIST 클래스 개수(0부터 9까지의 숫자 손 글씨)\n",
    "dropout = 0.75 # 드롭아웃에서 드롭되지 않을 확률(0에서 1 사이의 값)"
   ]
  },
  {
   "cell_type": "code",
   "execution_count": 4,
   "metadata": {
    "collapsed": true
   },
   "outputs": [],
   "source": [
    "# 텐서플로 변수 설정 및 초기화\n",
    "x = tf.placeholder(tf.float32, [None, n_input])\n",
    "y = tf.placeholder(tf.float32, [None, n_classes])\n",
    "# 드롭아웃에서 드롭되지 않을 확률(0에서 1 사이의 값)\n",
    "keep_prob = tf.placeholder(tf.float32)"
   ]
  },
  {
   "cell_type": "code",
   "execution_count": 6,
   "metadata": {
    "collapsed": false
   },
   "outputs": [],
   "source": [
    "# 모델 생성\n",
    "def conv2d(img, w, b):\n",
    "    return tf.nn.relu(tf.nn.bias_add(tf.nn.conv2d(img, w,strides=[1, 1, 1, 1],padding='SAME'),b))\n",
    "def max_pool(img, k):\n",
    "    return tf.nn.max_pool(img, ksize=[1, k, k, 1],strides=[1, k, k, 1],padding='SAME')"
   ]
  },
  {
   "cell_type": "code",
   "execution_count": 7,
   "metadata": {
    "collapsed": true
   },
   "outputs": [],
   "source": [
    "# 레이어의 가중치 행렬과 편향 행렬 저장\n",
    "# 5x5 크기의 커널, 1차원의 입력 데이터, 32차원의 출력 데이터\n",
    "wc1 = tf.Variable(tf.random_normal([5, 5, 1, 32]))\n",
    "bc1 = tf.Variable(tf.random_normal([32]))\n",
    "# 5x5 크기의 커널, 32차원의 입력 데이터, 64차원의 출력 데이터\n",
    "wc2 = tf.Variable(tf.random_normal([5, 5, 32, 64]))\n",
    "bc2 = tf.Variable(tf.random_normal([64]))\n",
    "# 완전 연결 레이어, 7*7*64 크기의 입력 데이터, 크기 1024의 출력 데이터\n",
    "wd1 = tf.Variable(tf.random_normal([7*7*64, 1024]))\n",
    "# 크기 1024의 입력 데이터, 크기 10의 출력 데이터(입력 데이터에 대한\n",
    "# 클래스 개수)\n",
    "wout = tf.Variable(tf.random_normal([1024, n_classes]))\n",
    "bd1 = tf.Variable(tf.random_normal([1024]))\n",
    "bout = tf.Variable(tf.random_normal([n_classes]))\n",
    "# 모델 생성\n",
    "_X = tf.reshape(x, shape=[-1, 28, 28, 1])"
   ]
  },
  {
   "cell_type": "code",
   "execution_count": 8,
   "metadata": {
    "collapsed": true
   },
   "outputs": [],
   "source": [
    "# 합성곱 레이어\n",
    "conv1 = conv2d(_X,wc1,bc1)\n",
    "# 최댓값 풀링(다운 샘플링)\n",
    "conv1 = max_pool(conv1, k=2)\n",
    "# 드롭아웃 적용\n",
    "conv1 = tf.nn.dropout(conv1,keep_prob)\n",
    "# 합성곱 레이어\n",
    "conv2 = conv2d(conv1,wc2,bc2)\n",
    "# 최댓값 풀링(다운 샘플링)\n",
    "conv2 = max_pool(conv2, k=2)\n",
    "# 드롭아웃 적용\n",
    "conv2 = tf.nn.dropout(conv2, keep_prob)"
   ]
  },
  {
   "cell_type": "code",
   "execution_count": 9,
   "metadata": {
    "collapsed": true
   },
   "outputs": [],
   "source": [
    "# 완전 연결 레이어\n",
    "# 완전 연결 레이어 형성을 위해 3차원의 conv2를 1차원으로 변환\n",
    "dense1 = tf.reshape(conv2, [-1, wd1.get_shape().as_list()[0]])\n",
    "# ReLU 활성화 함수 적용\n",
    "dense1 = tf.nn.relu(tf.add(tf.matmul(dense1, wd1),bd1))\n",
    "# 드롭아웃 적용\n",
    "dense1 = tf.nn.dropout(dense1, keep_prob)\n",
    "# 클래스 예측\n",
    "pred = tf.add(tf.matmul(dense1, wout), bout)"
   ]
  },
  {
   "cell_type": "code",
   "execution_count": 12,
   "metadata": {
    "collapsed": false
   },
   "outputs": [],
   "source": [
    "# 비용 함수와 최적화 함수 설정\n",
    "cost = tf.reduce_mean(tf.nn.softmax_cross_entropy_with_logits(logits=pred, labels=y))\n",
    "optimizer = tf.train.AdamOptimizer(learning_rate=learning_rate).minimize(cost)\n",
    "# 모델 성능 평가\n",
    "correct_pred = tf.equal(tf.argmax(pred,1), tf.argmax(y,1))\n",
    "accuracy = tf.reduce_mean(tf.cast(correct_pred, tf.float32))\n",
    "# 변수 초기화\n",
    "init = tf.global_variables_initializer()"
   ]
  },
  {
   "cell_type": "code",
   "execution_count": 13,
   "metadata": {
    "collapsed": false
   },
   "outputs": [
    {
     "name": "stdout",
     "output_type": "stream",
     "text": [
      "Iter 1280, Minibatch Loss= 23722.652344, Training Accuracy= 0.23438\n",
      "Iter 2560, Minibatch Loss= 15007.699219, Training Accuracy= 0.33594\n",
      "Iter 3840, Minibatch Loss= 7455.166504, Training Accuracy= 0.61719\n",
      "Iter 5120, Minibatch Loss= 7971.388672, Training Accuracy= 0.52344\n",
      "Iter 6400, Minibatch Loss= 6729.998535, Training Accuracy= 0.67969\n",
      "Iter 7680, Minibatch Loss= 4120.019043, Training Accuracy= 0.73438\n",
      "Iter 8960, Minibatch Loss= 6474.686035, Training Accuracy= 0.70312\n",
      "Iter 10240, Minibatch Loss= 4771.535156, Training Accuracy= 0.74219\n",
      "Iter 11520, Minibatch Loss= 5466.454590, Training Accuracy= 0.70312\n",
      "Iter 12800, Minibatch Loss= 4436.246094, Training Accuracy= 0.73438\n",
      "Iter 14080, Minibatch Loss= 2474.728760, Training Accuracy= 0.82031\n",
      "Iter 15360, Minibatch Loss= 4666.893555, Training Accuracy= 0.78125\n",
      "Iter 16640, Minibatch Loss= 3852.043701, Training Accuracy= 0.82812\n",
      "Iter 17920, Minibatch Loss= 2448.841797, Training Accuracy= 0.85156\n",
      "Iter 19200, Minibatch Loss= 2438.097168, Training Accuracy= 0.80469\n",
      "Iter 20480, Minibatch Loss= 2267.010254, Training Accuracy= 0.82812\n",
      "Iter 21760, Minibatch Loss= 2321.098633, Training Accuracy= 0.86719\n",
      "Iter 23040, Minibatch Loss= 1978.316284, Training Accuracy= 0.86719\n",
      "Iter 24320, Minibatch Loss= 868.571960, Training Accuracy= 0.92188\n",
      "Iter 25600, Minibatch Loss= 2696.104736, Training Accuracy= 0.87500\n",
      "Iter 26880, Minibatch Loss= 1750.436035, Training Accuracy= 0.88281\n",
      "Iter 28160, Minibatch Loss= 2334.047852, Training Accuracy= 0.85938\n",
      "Iter 29440, Minibatch Loss= 1338.032227, Training Accuracy= 0.90625\n",
      "Iter 30720, Minibatch Loss= 2028.323364, Training Accuracy= 0.86719\n",
      "Iter 32000, Minibatch Loss= 1816.332764, Training Accuracy= 0.90625\n",
      "Iter 33280, Minibatch Loss= 1153.149780, Training Accuracy= 0.89062\n",
      "Iter 34560, Minibatch Loss= 1601.502319, Training Accuracy= 0.88281\n",
      "Iter 35840, Minibatch Loss= 1516.908813, Training Accuracy= 0.88281\n",
      "Iter 37120, Minibatch Loss= 1041.528687, Training Accuracy= 0.92188\n",
      "Iter 38400, Minibatch Loss= 2420.372070, Training Accuracy= 0.85938\n",
      "Iter 39680, Minibatch Loss= 1047.772949, Training Accuracy= 0.89844\n",
      "Iter 40960, Minibatch Loss= 1871.832520, Training Accuracy= 0.86719\n",
      "Iter 42240, Minibatch Loss= 810.106812, Training Accuracy= 0.88281\n",
      "Iter 43520, Minibatch Loss= 941.737427, Training Accuracy= 0.92188\n",
      "Iter 44800, Minibatch Loss= 985.412903, Training Accuracy= 0.91406\n",
      "Iter 46080, Minibatch Loss= 649.027344, Training Accuracy= 0.92969\n",
      "Iter 47360, Minibatch Loss= 1251.200439, Training Accuracy= 0.88281\n",
      "Iter 48640, Minibatch Loss= 1070.209229, Training Accuracy= 0.90625\n",
      "Iter 49920, Minibatch Loss= 2815.010742, Training Accuracy= 0.85156\n",
      "Iter 51200, Minibatch Loss= 1446.220947, Training Accuracy= 0.90625\n",
      "Iter 52480, Minibatch Loss= 506.963470, Training Accuracy= 0.92188\n",
      "Iter 53760, Minibatch Loss= 986.537720, Training Accuracy= 0.86719\n",
      "Iter 55040, Minibatch Loss= 1066.638062, Training Accuracy= 0.91406\n",
      "Iter 56320, Minibatch Loss= 588.152771, Training Accuracy= 0.92969\n",
      "Iter 57600, Minibatch Loss= 1194.110596, Training Accuracy= 0.89844\n",
      "Iter 58880, Minibatch Loss= 1235.861084, Training Accuracy= 0.87500\n",
      "Iter 60160, Minibatch Loss= 550.756897, Training Accuracy= 0.96094\n",
      "Iter 61440, Minibatch Loss= 349.148376, Training Accuracy= 0.96094\n",
      "Iter 62720, Minibatch Loss= 484.863831, Training Accuracy= 0.95312\n",
      "Iter 64000, Minibatch Loss= 1110.703857, Training Accuracy= 0.92188\n",
      "Iter 65280, Minibatch Loss= 412.594086, Training Accuracy= 0.93750\n",
      "Iter 66560, Minibatch Loss= 601.114014, Training Accuracy= 0.91406\n",
      "Iter 67840, Minibatch Loss= 508.745789, Training Accuracy= 0.93750\n",
      "Iter 69120, Minibatch Loss= 834.578491, Training Accuracy= 0.92188\n",
      "Iter 70400, Minibatch Loss= 136.258881, Training Accuracy= 0.96094\n",
      "Iter 71680, Minibatch Loss= 1115.615234, Training Accuracy= 0.86719\n",
      "Iter 72960, Minibatch Loss= 642.374817, Training Accuracy= 0.91406\n",
      "Iter 74240, Minibatch Loss= 432.450256, Training Accuracy= 0.94531\n",
      "Iter 75520, Minibatch Loss= 552.109924, Training Accuracy= 0.92969\n",
      "Iter 76800, Minibatch Loss= 467.118286, Training Accuracy= 0.94531\n",
      "Iter 78080, Minibatch Loss= 284.440491, Training Accuracy= 0.94531\n",
      "Iter 79360, Minibatch Loss= 227.462708, Training Accuracy= 0.96094\n",
      "Iter 80640, Minibatch Loss= 215.336731, Training Accuracy= 0.97656\n",
      "Iter 81920, Minibatch Loss= 521.078186, Training Accuracy= 0.92188\n",
      "Iter 83200, Minibatch Loss= 217.362625, Training Accuracy= 0.96094\n",
      "Iter 84480, Minibatch Loss= 612.911621, Training Accuracy= 0.92969\n",
      "Iter 85760, Minibatch Loss= 739.957520, Training Accuracy= 0.89844\n",
      "Iter 87040, Minibatch Loss= 576.927490, Training Accuracy= 0.94531\n",
      "Iter 88320, Minibatch Loss= 233.789719, Training Accuracy= 0.93750\n",
      "Iter 89600, Minibatch Loss= 445.025787, Training Accuracy= 0.95312\n",
      "Iter 90880, Minibatch Loss= 517.204712, Training Accuracy= 0.91406\n",
      "Iter 92160, Minibatch Loss= 486.519409, Training Accuracy= 0.94531\n",
      "Iter 93440, Minibatch Loss= 805.950134, Training Accuracy= 0.93750\n",
      "Iter 94720, Minibatch Loss= 548.009033, Training Accuracy= 0.91406\n",
      "Iter 96000, Minibatch Loss= 212.996368, Training Accuracy= 0.97656\n",
      "Iter 97280, Minibatch Loss= 589.102295, Training Accuracy= 0.92188\n",
      "Iter 98560, Minibatch Loss= 841.640625, Training Accuracy= 0.90625\n",
      "Iter 99840, Minibatch Loss= 697.449463, Training Accuracy= 0.94531\n",
      "Optimization Finished!\n",
      "Testing Accuracy: 0.957031\n"
     ]
    }
   ],
   "source": [
    "# 세션 실행\n",
    "with tf.Session() as sess:\n",
    "    sess.run(init)\n",
    "    step = 1\n",
    "    # training_iters에 지정된 횟수만큼 학습 반복\n",
    "    while step * batch_size < training_iters:\n",
    "        batch_xs, batch_ys = mnist.train.next_batch(batch_size)\n",
    "        # 모든 배치에 대해 학습 진행\n",
    "        sess.run(optimizer, feed_dict={x: batch_xs,y: batch_ys,keep_prob: dropout})\n",
    "        if step % display_step == 0:\n",
    "            # 배치(batch) 단위의 정확도 평가\n",
    "            acc = sess.run(accuracy, feed_dict={x: batch_xs,y: batch_ys,keep_prob: 1.})\n",
    "            # batch 단위의 비용 평가\n",
    "            loss = sess.run(cost, feed_dict={x: batch_xs,y: batch_ys,keep_prob: 1.})\n",
    "            print(\"Iter \" + str(step*batch_size) + \", Minibatch Loss= \" + \"{:.6f}\".format(loss) + \", Training Accuracy= \" + \"{:.5f}\".format(acc))\n",
    "        step += 1\n",
    "    print(\"Optimization Finished!\")\n",
    "    # 256개의 MNIST 이미지에 대한 성능 평가\n",
    "    print(\"Testing Accuracy:\",sess.run(accuracy,feed_dict={x: mnist.test.images[:256], y: mnist.test.labels[:256],keep_prob: 1.}))"
   ]
  },
  {
   "cell_type": "code",
   "execution_count": null,
   "metadata": {
    "collapsed": true
   },
   "outputs": [],
   "source": []
  }
 ],
 "metadata": {
  "anaconda-cloud": {},
  "kernelspec": {
   "display_name": "Python [conda root]",
   "language": "python",
   "name": "conda-root-py"
  },
  "language_info": {
   "codemirror_mode": {
    "name": "ipython",
    "version": 3
   },
   "file_extension": ".py",
   "mimetype": "text/x-python",
   "name": "python",
   "nbconvert_exporter": "python",
   "pygments_lexer": "ipython3",
   "version": "3.5.2"
  }
 },
 "nbformat": 4,
 "nbformat_minor": 1
}
